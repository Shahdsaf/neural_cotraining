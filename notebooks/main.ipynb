{
 "cells": [
  {
   "cell_type": "code",
   "execution_count": 1,
   "metadata": {},
   "outputs": [
    {
     "name": "stdout",
     "output_type": "stream",
     "text": [
      "Connecting anix@sinzlab.chlkmukhxp6i.eu-central-1.rds.amazonaws.com:3306\n"
     ]
    },
    {
     "data": {
      "text/plain": [
       "Schema `anix_nnfabrik_bias_transfer1`"
      ]
     },
     "execution_count": 1,
     "metadata": {},
     "output_type": "execute_result"
    }
   ],
   "source": [
    "%matplotlib inline\n",
    "%load_ext autoreload\n",
    "%autoreload 2\n",
    "\n",
    "import os\n",
    "import datajoint as dj\n",
    "dj.config['database.host'] = os.environ['DJ_HOST']\n",
    "dj.config['database.user'] = os.environ['DJ_USER']\n",
    "dj.config['database.password'] = os.environ['DJ_PASS']\n",
    "dj.config['enable_python_native_blobs'] = True\n",
    "dj.config['schema_name'] = \"anix_nnfabrik_bias_transfer1\"\n",
    "# dj.config['schema_name'] = \"anix_nnfabrik_bias_transfer_test2\"\n",
    "\n",
    "import matplotlib.pyplot as plt\n",
    "import numpy as np\n",
    "from bias_transfer.dataset import dataset_loader\n",
    "from bias_transfer.trainer import trainer\n",
    "from bias_transfer.models import resnet_builder\n",
    "from bias_transfer.analysis import *\n",
    "from bias_transfer.main import *\n",
    "\n",
    "\n",
    "from bias_transfer.tables.trained_model import *\n",
    "from bias_transfer.tables.trained_transfer_model import *\n",
    "from bias_transfer.tables.evaluated_model import *\n",
    "import nnfabrik as nnf\n",
    "# nnf.config['repos'] = ['/notebooks/nnfabrik']\n",
    "# from nnfabrik.main import *\n",
    "schema"
   ]
  },
  {
   "cell_type": "code",
   "execution_count": 2,
   "metadata": {},
   "outputs": [],
   "source": [
    "import imageio"
   ]
  },
  {
   "cell_type": "code",
   "execution_count": 55,
   "metadata": {},
   "outputs": [],
   "source": [
    "from bias_transfer.experiments.representation_analysis import experiments\n",
    "experiment_key = \"clean\"\n",
    "dataset_cls = \"CIFAR10\"\n",
    "idx = True\n",
    "if experiment_key == \"clean\":\n",
    "    exp = experiments[Description(name=dataset_cls + \": Clean\", seed=42)]\n",
    "if experiment_key == \"noisy\":\n",
    "    exp = experiments[Description(name=dataset_cls + \": Noise Augmented\", seed=42)]\n",
    "if experiment_key == \"rep_matching\":\n",
    "    exp = experiments[Description(name=dataset_cls + \": Noise Augmented + Repr. Matching\", seed=42)]\n",
    "if experiment_key == \"adv_regression\":\n",
    "    exp = experiments[Description(name=dataset_cls + \": Noise Augmented + Noise Adv Regession\", seed=42)]"
   ]
  },
  {
   "cell_type": "code",
   "execution_count": 56,
   "metadata": {},
   "outputs": [
    {
     "name": "stdout",
     "output_type": "stream",
     "text": [
      "Files already downloaded and verified\n",
      "Files already downloaded and verified\n",
      "Files already downloaded and verified\n",
      "Model with 23520842 parameters.\n"
     ]
    }
   ],
   "source": [
    "val_analyser = RepresentationAnalyser(experiment=exp, table=TrainedModel(), dataset=\"val\",\n",
    "                                      plot_style=\"lightpaper\")"
   ]
  },
  {
   "cell_type": "code",
   "execution_count": 57,
   "metadata": {},
   "outputs": [],
   "source": [
    "path = \"./bias_transfer/bias_transfer/analysis/\""
   ]
  },
  {
   "cell_type": "code",
   "execution_count": 58,
   "metadata": {},
   "outputs": [],
   "source": [
    "filenames = []\n",
    "filenames.append(os.path.join(path,val_analyser._get_name(method=\"corr\", mode=\"clean\", noise_level=0.0)+\"_plot.png\"))\n",
    "for i in range(1, 21):\n",
    "    noise_level = 0.05 * i\n",
    "    if not idx:\n",
    "        filenames.append(os.path.join(path,val_analyser._get_name(method=\"corr\", mode=\"noisy\", noise_level=noise_level)+\"_plot.png\"))\n",
    "    else:\n",
    "        filenames.append(os.path.join(path,val_analyser._get_name(method=\"corr_given_idx\", mode=\"noisy\", noise_level=noise_level)+\"_plot.png\"))"
   ]
  },
  {
   "cell_type": "code",
   "execution_count": 59,
   "metadata": {},
   "outputs": [],
   "source": [
    "images = []\n",
    "for filename in filenames:\n",
    "    images.append(imageio.imread(filename))\n",
    "imageio.mimsave('./{}_{}.gif'.format(experiment_key, \"given_idx\" if idx else \"\"), images, format='GIF', duration=2)"
   ]
  },
  {
   "cell_type": "code",
   "execution_count": null,
   "metadata": {},
   "outputs": [],
   "source": []
  }
 ],
 "metadata": {
  "kernelspec": {
   "display_name": "Python 3",
   "language": "python",
   "name": "python3"
  },
  "language_info": {
   "codemirror_mode": {
    "name": "ipython",
    "version": 3
   },
   "file_extension": ".py",
   "mimetype": "text/x-python",
   "name": "python",
   "nbconvert_exporter": "python",
   "pygments_lexer": "ipython3",
   "version": "3.7.6"
  }
 },
 "nbformat": 4,
 "nbformat_minor": 4
}
