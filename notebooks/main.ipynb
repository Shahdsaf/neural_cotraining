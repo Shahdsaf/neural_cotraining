{
 "cells": [
  {
   "cell_type": "code",
   "execution_count": null,
   "metadata": {},
   "outputs": [],
   "source": [
    "%matplotlib inline\n",
    "%load_ext autoreload\n",
    "%autoreload 2\n",
    "from bias_transfer.bias_transfer.main import *"
   ]
  },
  {
   "cell_type": "code",
   "execution_count": null,
   "metadata": {},
   "outputs": [],
   "source": [
    "force_cpu=False\n",
    "lr=0.1\n",
    "resume=False\n",
    "cifar100=True\n",
    "\n",
    "device = 'cuda' if torch.cuda.is_available() and not force_cpu else 'cpu'\n",
    "best_acc = 0  # best test accuracy\n",
    "start_epoch = 0  # start from epoch 0 or last checkpoint epoch\n",
    "\n",
    "print('==> Load data..')\n",
    "if cifar100:\n",
    "    CIFAR100_TRAIN_MEAN = (0.5070751592371323, 0.48654887331495095, 0.4409178433670343)\n",
    "    CIFAR100_TRAIN_STD = (0.2673342858792401, 0.2564384629170883, 0.27615047132568404)\n",
    "    train_loader = get_training_data_loader(mean=CIFAR100_TRAIN_MEAN, std=CIFAR100_TRAIN_STD)\n",
    "    test_loader = get_test_data_loader(mean=CIFAR100_TRAIN_MEAN, std=CIFAR100_TRAIN_STD)\n",
    "else:  # CIFAR10\n",
    "    CIFAR10_TRAIN_MEAN = (0.4914, 0.4822, 0.4465)\n",
    "    CIFAR10_TRAIN_STD =(0.2023, 0.1994, 0.2010)\n",
    "    train_loader = get_training_data_loader(mean=CIFAR10_TRAIN_MEAN, std=CIFAR10_TRAIN_STD, cifar100=False)\n",
    "    test_loader = get_test_data_loader(mean=CIFAR10_TRAIN_MEAN, std=CIFAR10_TRAIN_STD, cifar100=False)\n",
    "\n"
   ]
  },
  {
   "cell_type": "code",
   "execution_count": null,
   "metadata": {},
   "outputs": [],
   "source": [
    "# Model\n",
    "print('==> Building model..')\n",
    "net = resnet50(num_classes=100 if cifar100 else 10)\n",
    "net = net.to(device)\n",
    "if device == 'cuda':\n",
    "    net = torch.nn.DataParallel(net)\n",
    "    cudnn.benchmark = True\n",
    "\n",
    "if resume:\n",
    "    # Load checkpoint.\n",
    "    print('==> Resuming from checkpoint..')\n",
    "    assert os.path.isdir('checkpoint'), 'Error: no checkpoint directory found!'\n",
    "    checkpoint = torch.load('./checkpoint/ckpt.pth')\n",
    "    net.load_state_dict(checkpoint['net'])\n",
    "    best_acc = checkpoint['acc']\n",
    "    start_epoch = checkpoint['epoch']\n",
    "\n",
    "criterion = nn.CrossEntropyLoss()\n",
    "optimizer = optim.SGD(net.parameters(), lr=lr, momentum=0.9, weight_decay=5e-4)\n",
    "# train_scheduler = optim.lr_scheduler.MultiStepLR(optimizer, milestones=settings.MILESTONES, gamma=0.2)  # learning rate decay\n",
    "# iter_per_epoch = len(cifar100_training_loader)\n",
    "# warmup_scheduler = WarmUpLR(optimizer, iter_per_epoch * args.warm)\n",
    "\n",
    "for epoch in range(start_epoch, start_epoch + 200):\n",
    "    train(net, train_loader, device, epoch, optimizer, criterion)\n",
    "    test(net, test_loader, device, epoch, criterion, best_acc)\n"
   ]
  },
  {
   "cell_type": "code",
   "execution_count": null,
   "metadata": {},
   "outputs": [],
   "source": []
  }
 ],
 "metadata": {
  "kernelspec": {
   "display_name": "Python 3",
   "language": "python",
   "name": "python3"
  },
  "language_info": {
   "codemirror_mode": {
    "name": "ipython",
    "version": 3
   },
   "file_extension": ".py",
   "mimetype": "text/x-python",
   "name": "python",
   "nbconvert_exporter": "python",
   "pygments_lexer": "ipython3",
   "version": "3.7.5"
  }
 },
 "nbformat": 4,
 "nbformat_minor": 4
}
